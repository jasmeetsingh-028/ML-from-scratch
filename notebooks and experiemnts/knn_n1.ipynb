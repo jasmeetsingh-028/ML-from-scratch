{
 "cells": [
  {
   "cell_type": "code",
   "execution_count": 4,
   "metadata": {},
   "outputs": [
    {
     "name": "stderr",
     "output_type": "stream",
     "text": [
      "c:\\Users\\sjasm\\anaconda3\\lib\\site-packages\\numpy\\_distributor_init.py:30: UserWarning: loaded more than 1 DLL from .libs:\n",
      "c:\\Users\\sjasm\\anaconda3\\lib\\site-packages\\numpy\\.libs\\libopenblas.EL2C6PLE4ZYW3ECEVIV3OXXGRN2NRFM2.gfortran-win_amd64.dll\n",
      "c:\\Users\\sjasm\\anaconda3\\lib\\site-packages\\numpy\\.libs\\libopenblas.PYQHXLVVQ7VESDPUVUADXEVJOBGHJPAY.gfortran-win_amd64.dll\n",
      "  warnings.warn(\"loaded more than 1 DLL from .libs:\"\n"
     ]
    }
   ],
   "source": [
    "import numpy as np"
   ]
  },
  {
   "cell_type": "code",
   "execution_count": 5,
   "metadata": {},
   "outputs": [],
   "source": [
    "a = [1.23,3.23,4,56,1.23,3.23]"
   ]
  },
  {
   "cell_type": "code",
   "execution_count": 6,
   "metadata": {},
   "outputs": [
    {
     "data": {
      "text/plain": [
       "array([0, 4, 1, 5, 2, 3], dtype=int64)"
      ]
     },
     "execution_count": 6,
     "metadata": {},
     "output_type": "execute_result"
    }
   ],
   "source": [
    "np.argsort(a)"
   ]
  },
  {
   "cell_type": "code",
   "execution_count": 7,
   "metadata": {},
   "outputs": [],
   "source": [
    "import matplotlib.pyplot as plt\n",
    "from matplotlib.colors import ListedColormap\n",
    "from sklearn import datasets\n",
    "from sklearn.model_selection import train_test_split"
   ]
  },
  {
   "cell_type": "code",
   "execution_count": 8,
   "metadata": {},
   "outputs": [],
   "source": [
    "iris = datasets.load_iris()\n",
    "X, y = iris.data, iris.target\n",
    "\n",
    "x_train, x_test, y_train, y_test = train_test_split(X, y, test_size=0.2, random_state=1234)"
   ]
  },
  {
   "cell_type": "code",
   "execution_count": 22,
   "metadata": {},
   "outputs": [],
   "source": [
    "x = x_test"
   ]
  },
  {
   "cell_type": "code",
   "execution_count": 23,
   "metadata": {},
   "outputs": [],
   "source": [
    "def euc_distance(x1,x2):\n",
    "    return np.sqrt(np.sum((x1-x2)**2))"
   ]
  },
  {
   "cell_type": "code",
   "execution_count": 24,
   "metadata": {},
   "outputs": [],
   "source": [
    "distance = [euc_distance(x, x_dash) for x_dash in x_train]"
   ]
  },
  {
   "cell_type": "code",
   "execution_count": 25,
   "metadata": {},
   "outputs": [
    {
     "data": {
      "text/plain": [
       "[13.591173606425606,\n",
       " 13.231024147812596,\n",
       " 19.673332203772702,\n",
       " 13.734627770711516,\n",
       " 14.115948427222309,\n",
       " 17.8986032974643,\n",
       " 20.367621363330574,\n",
       " 17.80224704917893,\n",
       " 21.70023041352326,\n",
       " 13.616901262769002,\n",
       " 19.330804432304415,\n",
       " 13.144580632336659,\n",
       " 19.67536530791741,\n",
       " 15.67992346920099,\n",
       " 18.238969269122638,\n",
       " 19.208852126038142,\n",
       " 14.96262009141447,\n",
       " 15.573695772038183,\n",
       " 20.427432535685927,\n",
       " 16.913308369446824,\n",
       " 19.420607611503815,\n",
       " 14.730919862656236,\n",
       " 21.65825477733605,\n",
       " 11.969962405956004,\n",
       " 13.669674465765452,\n",
       " 11.814397995666134,\n",
       " 12.282507887235408,\n",
       " 14.108862463005304,\n",
       " 12.883322552819983,\n",
       " 19.154111830100607,\n",
       " 18.85895012984551,\n",
       " 19.17446218280972,\n",
       " 14.175330683973478,\n",
       " 14.490686664199181,\n",
       " 18.810635289643994,\n",
       " 19.806059678795275,\n",
       " 19.303367581849546,\n",
       " 14.161920773680384,\n",
       " 12.554680402144852,\n",
       " 15.227606509231842,\n",
       " 17.4934273371458,\n",
       " 12.201639234135715,\n",
       " 19.51050998820892,\n",
       " 14.864723340849636,\n",
       " 18.795212156291292,\n",
       " 21.977260975835915,\n",
       " 19.45404842185811,\n",
       " 12.221292893961753,\n",
       " 11.76010204037363,\n",
       " 18.003888468883602,\n",
       " 11.85833040524677,\n",
       " 18.991577080379606,\n",
       " 15.698407562552324,\n",
       " 16.20925661466312,\n",
       " 13.066751700403586,\n",
       " 12.430607386608267,\n",
       " 17.84376641855637,\n",
       " 19.323560748474904,\n",
       " 13.77461433216916,\n",
       " 13.701824696003083,\n",
       " 12.3596116443843,\n",
       " 17.489997141223323,\n",
       " 13.30338302838793,\n",
       " 16.919810873647496,\n",
       " 13.076696830622021,\n",
       " 12.890306435457614,\n",
       " 13.500370365289983,\n",
       " 20.777391559096152,\n",
       " 19.521782705480565,\n",
       " 19.432961688841978,\n",
       " 12.469963913339926,\n",
       " 12.172099243762352,\n",
       " 18.257053431482312,\n",
       " 14.048487463068755,\n",
       " 11.75925167687128,\n",
       " 15.228263197095064,\n",
       " 14.048487463068755,\n",
       " 11.794914158229385,\n",
       " 21.84124538573751,\n",
       " 12.821856339859686,\n",
       " 14.018559127100046,\n",
       " 19.12537581330103,\n",
       " 18.841443681416774,\n",
       " 16.08477541030648,\n",
       " 13.828231991111517,\n",
       " 13.995713629536723,\n",
       " 11.743083070471739,\n",
       " 13.738995596476478,\n",
       " 20.15589243868899,\n",
       " 12.376590806841762,\n",
       " 19.538679586911698,\n",
       " 15.47578754054216,\n",
       " 17.371816255072467,\n",
       " 12.780453826057979,\n",
       " 19.741327209688816,\n",
       " 19.057806799314555,\n",
       " 20.14894538183078,\n",
       " 19.572940504686567,\n",
       " 16.583123951777,\n",
       " 12.599206324209474,\n",
       " 16.03371447918417,\n",
       " 19.043108989868223,\n",
       " 19.814641051505323,\n",
       " 13.700364958642524,\n",
       " 13.909708839512064,\n",
       " 13.325914602758042,\n",
       " 12.30853362509117,\n",
       " 12.073110618229256,\n",
       " 16.198148042291745,\n",
       " 17.362027531368565,\n",
       " 23.436723320464406,\n",
       " 18.326483568868305,\n",
       " 16.726625481548872,\n",
       " 18.839320582229075,\n",
       " 17.63916097777896,\n",
       " 17.854411219639815,\n",
       " 15.33818763739706,\n",
       " 12.486793023030373,\n",
       " 20.721969018411354,\n",
       " 19.956452590578316]"
      ]
     },
     "execution_count": 25,
     "metadata": {},
     "output_type": "execute_result"
    }
   ],
   "source": [
    "distance"
   ]
  },
  {
   "cell_type": "code",
   "execution_count": 14,
   "metadata": {},
   "outputs": [],
   "source": [
    "nearest_labels = np.argsort(distance)[:3]"
   ]
  },
  {
   "cell_type": "code",
   "execution_count": 15,
   "metadata": {},
   "outputs": [],
   "source": [
    "k_nearest_labels = [y_train[label] for label in nearest_labels]"
   ]
  },
  {
   "cell_type": "code",
   "execution_count": 16,
   "metadata": {},
   "outputs": [
    {
     "data": {
      "text/plain": [
       "[1, 1, 1]"
      ]
     },
     "execution_count": 16,
     "metadata": {},
     "output_type": "execute_result"
    }
   ],
   "source": [
    "k_nearest_labels"
   ]
  },
  {
   "cell_type": "code",
   "execution_count": 17,
   "metadata": {},
   "outputs": [],
   "source": [
    "from collections import Counter"
   ]
  },
  {
   "cell_type": "code",
   "execution_count": 18,
   "metadata": {},
   "outputs": [],
   "source": [
    "occurence_count = Counter(k_nearest_labels)"
   ]
  },
  {
   "cell_type": "code",
   "execution_count": 19,
   "metadata": {},
   "outputs": [
    {
     "data": {
      "text/plain": [
       "Counter({1: 3})"
      ]
     },
     "execution_count": 19,
     "metadata": {},
     "output_type": "execute_result"
    }
   ],
   "source": [
    "occurence_count"
   ]
  },
  {
   "cell_type": "code",
   "execution_count": 20,
   "metadata": {},
   "outputs": [],
   "source": [
    "most_common_label = occurence_count.most_common(1)[0][0]"
   ]
  },
  {
   "cell_type": "code",
   "execution_count": 21,
   "metadata": {},
   "outputs": [
    {
     "data": {
      "text/plain": [
       "1"
      ]
     },
     "execution_count": 21,
     "metadata": {},
     "output_type": "execute_result"
    }
   ],
   "source": [
    "most_common_label"
   ]
  },
  {
   "cell_type": "code",
   "execution_count": null,
   "metadata": {},
   "outputs": [],
   "source": []
  }
 ],
 "metadata": {
  "kernelspec": {
   "display_name": "base",
   "language": "python",
   "name": "python3"
  },
  "language_info": {
   "codemirror_mode": {
    "name": "ipython",
    "version": 3
   },
   "file_extension": ".py",
   "mimetype": "text/x-python",
   "name": "python",
   "nbconvert_exporter": "python",
   "pygments_lexer": "ipython3",
   "version": "3.8.8"
  },
  "orig_nbformat": 4
 },
 "nbformat": 4,
 "nbformat_minor": 2
}
